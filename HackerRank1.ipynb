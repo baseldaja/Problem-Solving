{
 "cells": [
  {
   "cell_type": "code",
   "execution_count": 3,
   "metadata": {},
   "outputs": [
    {
     "name": "stdout",
     "output_type": "stream",
     "text": [
      "25200\n",
      "88200\n"
     ]
    }
   ],
   "source": [
    "#Delta Time\n",
    "from datetime import datetime, timedelta\n",
    "def convert_to_datetime(timestamp):\n",
    "    format_string = \"%a %d %b %Y %H:%M:%S %z\"\n",
    "    return datetime.strptime(timestamp, format_string)\n",
    "\n",
    "t = int(input())\n",
    "\n",
    "for _ in range(t):\n",
    "    t1 = input().strip()\n",
    "    t2 = input().strip()\n",
    "\n",
    "    dt1 = convert_to_datetime(t1)\n",
    "    dt2 = convert_to_datetime(t2)\n",
    "\n",
    "    time_difference = abs((dt1 - dt2).total_seconds())\n",
    "\n",
    "    print(int(time_difference))\n",
    "\n",
    "'''\n",
    "Sample Input 0\n",
    "2\n",
    "Sun 10 May 2015 13:54:36 -0700\n",
    "Sun 10 May 2015 13:54:36 -0000\n",
    "Sat 02 May 2015 19:54:36 +0530\n",
    "Fri 01 May 2015 13:54:36 -0000\n",
    "'''\n",
    "\n"
   ]
  },
  {
   "cell_type": "code",
   "execution_count": 19,
   "metadata": {},
   "outputs": [
    {
     "name": "stdout",
     "output_type": "stream",
     "text": [
      "17\n",
      "7\n",
      "(17, 7)\n"
     ]
    }
   ],
   "source": [
    "#MOD divmod\n",
    "t1=int(input())\n",
    "t2=int(input())\n",
    "tp=divmod(t1,t2)\n",
    "print(f\"{tp[0]}\\n{tp[1]}\") \n",
    "print(divmod(t1,t2))"
   ]
  },
  {
   "cell_type": "code",
   "execution_count": 27,
   "metadata": {},
   "outputs": [
    {
     "name": "stdout",
     "output_type": "stream",
     "text": [
      "81\n",
      "1\n"
     ]
    }
   ],
   "source": [
    "#MOD power\n",
    "def modPower(n1,n2,n3):\n",
    "    print(f\"{pow(n1,n2)}\\n{pow(n1,n2,n3)}\")\n",
    "t1=int(input())\n",
    "t2=int(input())\n",
    "t3=int(input())\n",
    "modPower(t1,t2,t3)\n"
   ]
  },
  {
   "cell_type": "code",
   "execution_count": 34,
   "metadata": {},
   "outputs": [
    {
     "name": "stdout",
     "output_type": "stream",
     "text": [
      "4710194409608608369201743232\n"
     ]
    }
   ],
   "source": [
    "#Integers come in all sizes\n",
    "t1=int(input())\n",
    "t2=int(input())\n",
    "t3=int(input())\n",
    "t4=int(input())\n",
    "print(f\"{pow(t1,t2)+pow(t3,t4)}\")"
   ]
  },
  {
   "cell_type": "code",
   "execution_count": 70,
   "metadata": {},
   "outputs": [
    {
     "name": "stdout",
     "output_type": "stream",
     "text": [
      "1\n",
      "22\n",
      "333\n",
      "4444\n"
     ]
    }
   ],
   "source": [
    "#Triangle quest\n",
    "for i in range(1,int(input())): #make sure that  the code written in one line\n",
    "    print((10**i//9) * i)"
   ]
  }
 ],
 "metadata": {
  "kernelspec": {
   "display_name": "Python 3",
   "language": "python",
   "name": "python3"
  },
  "language_info": {
   "codemirror_mode": {
    "name": "ipython",
    "version": 3
   },
   "file_extension": ".py",
   "mimetype": "text/x-python",
   "name": "python",
   "nbconvert_exporter": "python",
   "pygments_lexer": "ipython3",
   "version": "3.10.0"
  },
  "orig_nbformat": 4
 },
 "nbformat": 4,
 "nbformat_minor": 2
}
