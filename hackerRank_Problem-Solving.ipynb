{
 "cells": [
  {
   "cell_type": "code",
   "execution_count": 4,
   "metadata": {},
   "outputs": [
    {
     "name": "stdout",
     "output_type": "stream",
     "text": [
      "101010.00\n"
     ]
    }
   ],
   "source": [
    "def avg(*args):\n",
    "    if not args:\n",
    "        raise ValueError(\"At least one argument is required.\")\n",
    "    \n",
    "    total = sum(args)\n",
    "    return float(total) / len(args)\n",
    "\n",
    "# Input read from stdin (for testing purposes)\n",
    "input_args = input().split()\n",
    "arguments = [int(arg) for arg in input_args]\n",
    "\n",
    "# Calculate the average and print the result with two decimal places\n",
    "result = avg(*arguments)\n",
    "print(\"{:.2f}\".format(result))"
   ]
  },
  {
   "cell_type": "code",
   "execution_count": 5,
   "metadata": {},
   "outputs": [
    {
     "name": "stdout",
     "output_type": "stream",
     "text": [
      "0346bfghjkmoquvwxz\n"
     ]
    }
   ],
   "source": [
    "def missingCharacters(s):\n",
    "    #Count the chars taken\n",
    "    digits = set('0123456789')\n",
    "    lowercase_letters = set('abcdefghijklmnopqrstuvwxyz')\n",
    "    \n",
    "    #\n",
    "    present_digits = set(filter(str.isdigit, s))\n",
    "    present_letters = set(filter(str.isalpha, s.lower()))\n",
    "    \n",
    "    missing_digits = sorted(digits - present_digits)\n",
    "    missing_letters = sorted(lowercase_letters - present_letters)\n",
    "    \n",
    "    return ''.join(missing_digits + missing_letters)\n",
    "\n",
    "s = \"7985interdisciplinary12\"\n",
    "result = missingCharacters(s)\n",
    "print(result)"
   ]
  }
 ],
 "metadata": {
  "kernelspec": {
   "display_name": "Python 3",
   "language": "python",
   "name": "python3"
  },
  "language_info": {
   "codemirror_mode": {
    "name": "ipython",
    "version": 3
   },
   "file_extension": ".py",
   "mimetype": "text/x-python",
   "name": "python",
   "nbconvert_exporter": "python",
   "pygments_lexer": "ipython3",
   "version": "3.10.0"
  },
  "orig_nbformat": 4
 },
 "nbformat": 4,
 "nbformat_minor": 2
}
