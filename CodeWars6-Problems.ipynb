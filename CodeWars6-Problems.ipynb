{
 "cells": [
  {
   "cell_type": "code",
   "execution_count": 48,
   "metadata": {},
   "outputs": [
    {
     "name": "stdout",
     "output_type": "stream",
     "text": [
      "'    ': False\n",
      "'': False\n",
      "'s': True\n",
      "'PassWord1234': True\n",
      "')XlZIONnRk1lHZ': False\n"
     ]
    }
   ],
   "source": [
    "#Not very secure (alphanumeric passowrd check)\n",
    "import re\n",
    "def alphanumeric(password):\n",
    "    if not re.match(r'^.[a-zA-Z0-9]*$', password):\n",
    "        return False\n",
    "    if re.search(r'[_]', password):\n",
    "        return False \n",
    "    if re.search(r'[\\s]', password):\n",
    "        return False \n",
    "    if  re.search(r'[!@#$%^&*()_+{}\\[\\]:;<>,.?|\\-=\\\\\\/]', password):\n",
    "        return False \n",
    "    return True\n",
    "\n",
    "passwords = [\"    \", \"\", \"s\",\"PassWord1234\",\")XlZIONnRk1lHZ\"]\n",
    "for password in passwords:\n",
    "    print(f\"'{password}': {alphanumeric(password)}\")\n"
   ]
  },
  {
   "cell_type": "code",
   "execution_count": 86,
   "metadata": {},
   "outputs": [
    {
     "name": "stdout",
     "output_type": "stream",
     "text": [
      "whatisup\n"
     ]
    }
   ],
   "source": [
    "#Recover a secret string from random triplets\n",
    "def recoverSecret(triplets):\n",
    "    chars = set(c for triplet in triplets for c in triplet)\n",
    "    secret_string = ''\n",
    "    \n",
    "    while chars:\n",
    "        char = next(c for c in chars if all(c not in t[1:] for t in triplets))\n",
    "        secret_string += char\n",
    "\n",
    "        chars.remove(char)\n",
    "        triplets = [t for t in triplets if char not in t]\n",
    "        \n",
    "    return secret_string\n",
    "\n",
    "\n",
    "triplets = [\n",
    "    ['t', 'u', 'p'],\n",
    "    ['w', 'h', 'i'],\n",
    "    ['t', 's', 'u'],\n",
    "    ['a', 't', 's'],\n",
    "    ['h', 'a', 'p'],\n",
    "    ['t', 'i', 's'],\n",
    "    ['w', 'h', 's']\n",
    "]\n",
    "\n",
    "print(recoverSecret(triplets))"
   ]
  }
 ],
 "metadata": {
  "kernelspec": {
   "display_name": "Python 3",
   "language": "python",
   "name": "python3"
  },
  "language_info": {
   "codemirror_mode": {
    "name": "ipython",
    "version": 3
   },
   "file_extension": ".py",
   "mimetype": "text/x-python",
   "name": "python",
   "nbconvert_exporter": "python",
   "pygments_lexer": "ipython3",
   "version": "3.10.0"
  },
  "orig_nbformat": 4
 },
 "nbformat": 4,
 "nbformat_minor": 2
}
