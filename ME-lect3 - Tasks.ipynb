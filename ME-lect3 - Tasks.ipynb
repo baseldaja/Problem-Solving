{
 "cells": [
  {
   "cell_type": "code",
   "execution_count": 26,
   "metadata": {},
   "outputs": [
    {
     "name": "stdout",
     "output_type": "stream",
     "text": [
      "The sum is: 10.299999999999999\n"
     ]
    }
   ],
   "source": [
    "#Task1\n",
    "def sum(num1, num2):\n",
    "    return num1 + num2\n",
    "\n",
    "num1 = float(input(\"Enter the first number: \"))\n",
    "num2 = float(input(\"Enter the second number: \"))\n",
    "\n",
    "result = sum(num1, num2)\n",
    "formatted_result = int(result) if result.is_integer() else result\n",
    "\n",
    "print(\"The sum is:\", formatted_result)\n"
   ]
  },
  {
   "cell_type": "code",
   "execution_count": 13,
   "metadata": {},
   "outputs": [
    {
     "name": "stdout",
     "output_type": "stream",
     "text": [
      "10 9 8 7 6 5 4 3 2 1 0 "
     ]
    }
   ],
   "source": [
    "#Task2\n",
    "x=int(input(\"Enter an integer value: \"))\n",
    "for i in range(x,-1,-1):\n",
    "    print(i,end=\" \")"
   ]
  },
  {
   "cell_type": "code",
   "execution_count": 4,
   "metadata": {},
   "outputs": [
    {
     "name": "stdout",
     "output_type": "stream",
     "text": [
      "66 132 264 528 1056 "
     ]
    }
   ],
   "source": [
    "#Task3\n",
    "x = int(input(\"Enter an integer value: \"))\n",
    "while x < 2000:\n",
    "    if x != 0:\n",
    "        print(x, end=\" \")\n",
    "        x *= 2\n",
    "    else:\n",
    "        print(\"0 cannot be doubled up\")\n",
    "        break\n"
   ]
  },
  {
   "cell_type": "code",
   "execution_count": 6,
   "metadata": {},
   "outputs": [
    {
     "name": "stdout",
     "output_type": "stream",
     "text": [
      "9801\n"
     ]
    }
   ],
   "source": [
    "#Task4\n",
    "def sqr(number):\n",
    "    return number**2\n",
    "\n",
    "print(sqr(int(input(\"Enter a number to get it squared: \"))))"
   ]
  },
  {
   "cell_type": "code",
   "execution_count": 24,
   "metadata": {},
   "outputs": [
    {
     "name": "stdout",
     "output_type": "stream",
     "text": [
      "Small Number!\n"
     ]
    }
   ],
   "source": [
    "#Task5\n",
    "x = float(input(\"Enter a number: \"))\n",
    "\n",
    "if x > 10:\n",
    "    print(\"Big Number!\")\n",
    "elif x <= 10:\n",
    "    print(\"Small Number!\")    \n"
   ]
  },
  {
   "cell_type": "code",
   "execution_count": 51,
   "metadata": {},
   "outputs": [
    {
     "name": "stdout",
     "output_type": "stream",
     "text": [
      "The sum is: 10000\n"
     ]
    }
   ],
   "source": [
    "#Task6\n",
    "def product(num1, num2):\n",
    "    return num1 * num2\n",
    "\n",
    "num1 = float(input(\"Enter the first number: \"))\n",
    "num2 = float(input(\"Enter the second number: \"))\n",
    "\n",
    "result = product(num1, num2)\n",
    "formatted_result = int(result) if result.is_integer() else result\n",
    "\n",
    "print(\"The sum is:\", formatted_result)"
   ]
  },
  {
   "cell_type": "code",
   "execution_count": 53,
   "metadata": {},
   "outputs": [
    {
     "name": "stdout",
     "output_type": "stream",
     "text": [
      "50 45 40 35 30 25 20 15 10 5 0 "
     ]
    }
   ],
   "source": [
    "#Task7\n",
    "x = int(input(\"Enter an integer value: \"))\n",
    "\n",
    "while x >= 0:\n",
    "    print(x,end=\" \")\n",
    "    x -= 5"
   ]
  },
  {
   "cell_type": "code",
   "execution_count": 66,
   "metadata": {},
   "outputs": [
    {
     "name": "stdout",
     "output_type": "stream",
     "text": [
      "120\n"
     ]
    }
   ],
   "source": [
    "#Task8\n",
    "def fact(number):\n",
    "    if number > 0:\n",
    "        return number*(fact(number-1))\n",
    "    else:\n",
    "        return 1\n",
    "\n",
    "x = int(input(\"Enter an integer value: \"))\n",
    "print(fact(x))    "
   ]
  },
  {
   "cell_type": "code",
   "execution_count": 69,
   "metadata": {},
   "outputs": [
    {
     "name": "stdout",
     "output_type": "stream",
     "text": [
      "Positive!\n"
     ]
    }
   ],
   "source": [
    "#Task9\n",
    "def polarity_check(num):\n",
    "    if num > 0:\n",
    "        return \"Positive!\"\n",
    "    elif num == 0:\n",
    "        return \"Zero!\"\n",
    "    elif num < 0:\n",
    "        return \"Negative!\"\n",
    "\n",
    "x = float(input(\"Enter a number to check its polarity: \"))\n",
    "print(polarity_check(x))"
   ]
  },
  {
   "cell_type": "code",
   "execution_count": 74,
   "metadata": {},
   "outputs": [
    {
     "name": "stdout",
     "output_type": "stream",
     "text": [
      "Division!!\n",
      "The Result is:  10.0\n"
     ]
    }
   ],
   "source": [
    "#Task10\n",
    "print(\"Division!!\")\n",
    "a = float(input(\"Enter a 1st number : \"))\n",
    "b = float(input(\"Enter a 2nd number : \"))\n",
    "\n",
    "res = lambda a, b: a / b\n",
    "print(\"The Result is: \",res(a,b))"
   ]
  }
 ],
 "metadata": {
  "kernelspec": {
   "display_name": "Python 3",
   "language": "python",
   "name": "python3"
  },
  "language_info": {
   "codemirror_mode": {
    "name": "ipython",
    "version": 3
   },
   "file_extension": ".py",
   "mimetype": "text/x-python",
   "name": "python",
   "nbconvert_exporter": "python",
   "pygments_lexer": "ipython3",
   "version": "3.10.0"
  },
  "orig_nbformat": 4
 },
 "nbformat": 4,
 "nbformat_minor": 2
}
