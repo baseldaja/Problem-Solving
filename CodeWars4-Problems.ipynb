{
 "cells": [
  {
   "cell_type": "code",
   "execution_count": 55,
   "metadata": {},
   "outputs": [
    {
     "name": "stdout",
     "output_type": "stream",
     "text": [
      "[(15, 21), (21, 15)]\n"
     ]
    }
   ],
   "source": [
    "#Is my friend cheating?\n",
    "def removNb(n):\n",
    "    total_sum = sum(range(1, n + 1))\n",
    "    pairs = []\n",
    "    \n",
    "    for a in range(1, n + 1):\n",
    "        #a*b== total_sum -a-b --- we just rearrange the equasion\n",
    "        #b*(a + 1) == total_sum -a --- making b alone\n",
    "        b = (total_sum - a) // (a + 1)\n",
    "        if (total_sum - a - b) == a * b and 1 <= b <= n and b != a:\n",
    "            pairs.append((a, b))\n",
    "    \n",
    "    return pairs\n",
    "\n",
    "print(removNb(26))\n"
   ]
  },
  {
   "cell_type": "code",
   "execution_count": 95,
   "metadata": {},
   "outputs": [
    {
     "name": "stdout",
     "output_type": "stream",
     "text": [
      "{'m': 1, 'y': 2, 'f': 1, 'r': 1, 'i': 1, 'e': 2, 'n': 1, 'd': 1, 'a': 4, 'u': 1, 'l': 1, 'h': 3, 's': 2, 'v': 1, 't': 1}\n",
      "2:nnnnn/1:aaaa/1:hhh/2:mmm/2:yyy/2:dd/2:ff/2:ii/2:rr/=:ee/=:ss\n"
     ]
    }
   ],
   "source": [
    "#Strings Mix\n",
    "def count_letters(s): #this function returns the count of each letter in string\n",
    "    letter_count = {}\n",
    "    for char in s:\n",
    "        if char.islower():\n",
    "            letter_count[char] = letter_count.get(char, 0) + 1\n",
    "    return letter_count\n",
    "\n",
    "def mix(s1, s2):\n",
    "    s1_count = count_letters(s1)\n",
    "    s2_count = count_letters(s2)\n",
    "    \n",
    "    result = []\n",
    "    for letter in set(s1_count.keys()) | set(s2_count.keys()):\n",
    "        count1 = s1_count.get(letter, 0)\n",
    "        count2 = s2_count.get(letter, 0)\n",
    "        \n",
    "        if count1 > 1 or count2 > 1:\n",
    "            if count1 > count2:\n",
    "                result.append(f\"1:{letter * count1}\")\n",
    "            elif count2 > count1:\n",
    "                result.append(f\"2:{letter * count2}\")\n",
    "            else:\n",
    "                result.append(f\"=:{letter * count1}\")\n",
    "    \n",
    "    result.sort(key=lambda x: (-len(x), x))\n",
    "    return '/'.join(result)\n",
    "\n",
    "s1 = \"my&friend&Paul has heavy hats! &\"\n",
    "s2 = \"my friend John has many many friends &\"\n",
    "print(count_letters(s1))\n",
    "print(mix(s1, s2))\n",
    "\n",
    "\n",
    "\n",
    "        "
   ]
  },
  {
   "cell_type": "code",
   "execution_count": 67,
   "metadata": {},
   "outputs": [
    {
     "name": "stdout",
     "output_type": "stream",
     "text": [
      "3\n"
     ]
    }
   ],
   "source": [
    "d1={'mm': 3, 'yy': 6}\n",
    "print(d1.get('mm'))"
   ]
  }
 ],
 "metadata": {
  "kernelspec": {
   "display_name": "Python 3",
   "language": "python",
   "name": "python3"
  },
  "language_info": {
   "codemirror_mode": {
    "name": "ipython",
    "version": 3
   },
   "file_extension": ".py",
   "mimetype": "text/x-python",
   "name": "python",
   "nbconvert_exporter": "python",
   "pygments_lexer": "ipython3",
   "version": "3.10.0"
  },
  "orig_nbformat": 4
 },
 "nbformat": 4,
 "nbformat_minor": 2
}
