{
 "cells": [
  {
   "cell_type": "code",
   "execution_count": 34,
   "metadata": {},
   "outputs": [
    {
     "name": "stdout",
     "output_type": "stream",
     "text": [
      "2\n"
     ]
    }
   ],
   "source": [
    "#Count how many letters got repeated in text \n",
    "def duplicate_count(text):\n",
    "    letters_dup = {}\n",
    "    for i in text:\n",
    "        char = i.lower()\n",
    "        if char in letters_dup:\n",
    "            letters_dup[char] += 1\n",
    "        else:\n",
    "            letters_dup[char] = 1\n",
    "\n",
    "    count = 0\n",
    "    for i in letters_dup.values():\n",
    "        if i > 1:\n",
    "            count += 1\n",
    "    return count\n",
    "\n",
    "st1 = \"Indivisibilities\"\n",
    "print(duplicate_count(st1))\n",
    "\n"
   ]
  },
  {
   "cell_type": "code",
   "execution_count": null,
   "metadata": {},
   "outputs": [],
   "source": [
    "#Directions Reduction\n",
    "def dirReduc(arr):\n",
    "    opp1=[\"NORTH\",\"SOUTH\"]\n",
    "    opp2=[\"WEST\",\"EAST\"]\n",
    "    for i in range(len(arr)-1):       \n",
    "        if (arr[i] in opp1 and arr[i+1] in opp1) or (arr[i] in opp2 and arr[i+1] in opp2):\n",
    "            arr.pop(i)\n",
    "            return arr\n",
    "        else:\n",
    "            return \"fsh\"          \n",
    "sc=[\"WEST\",\"SOUTH\",\"NORTH\",\"EAST\"]\n",
    "print(dirReduc(sc))"
   ]
  },
  {
   "cell_type": "code",
   "execution_count": 113,
   "metadata": {},
   "outputs": [
    {
     "name": "stdout",
     "output_type": "stream",
     "text": [
      "[]\n"
     ]
    }
   ],
   "source": [
    "#Directions Reduction\n",
    "def dirReduc(arr):\n",
    "    opp1 = [\"NORTH\", \"SOUTH\"]\n",
    "    opp2 = [\"WEST\", \"EAST\"]\n",
    "    \n",
    "    has_simplified = True\n",
    "    while has_simplified:\n",
    "        has_simplified = False\n",
    "\n",
    "        for i in range(len(arr) - 1):       \n",
    "            if (arr[i] in opp1 and arr[i+1] in opp1) or (arr[i] in opp2 and arr[i+1] in opp2):\n",
    "                arr.pop(i)\n",
    "                arr.pop(i)  \n",
    "                has_simplified = True\n",
    "                break  \n",
    "    return arr\n",
    "\n",
    "sc = [\"NORTH\", \"SOUTH\", \"EAST\", \"WEST\", \"NORTH\", \"NORTH\", \"SOUTH\", \"NORTH\",\"WEST\", \"EAST\"]\n",
    "print(dirReduc(sc))\n"
   ]
  },
  {
   "cell_type": "code",
   "execution_count": 114,
   "metadata": {},
   "outputs": [
    {
     "name": "stdout",
     "output_type": "stream",
     "text": [
      "['NORTH', 'NORTH']\n"
     ]
    }
   ],
   "source": [
    "#Directions Reduction V2\n",
    "opposite = {'NORTH': 'SOUTH', 'EAST': 'WEST', 'SOUTH': 'NORTH', 'WEST': 'EAST'}\n",
    "\n",
    "def dirReduc(plan):\n",
    "    new_plan = []\n",
    "    for d in plan:\n",
    "        if new_plan and new_plan[-1] == opposite[d]:\n",
    "            new_plan.pop()\n",
    "        else:\n",
    "            new_plan.append(d)\n",
    "    return new_plan\n",
    "\n",
    "sc = [\"NORTH\", \"SOUTH\", \"EAST\", \"WEST\", \"NORTH\", \"NORTH\", \"SOUTH\", \"NORTH\",\"WEST\", \"EAST\"]\n",
    "print(dirReduc(sc))"
   ]
  }
 ],
 "metadata": {
  "kernelspec": {
   "display_name": "Python 3",
   "language": "python",
   "name": "python3"
  },
  "language_info": {
   "codemirror_mode": {
    "name": "ipython",
    "version": 3
   },
   "file_extension": ".py",
   "mimetype": "text/x-python",
   "name": "python",
   "nbconvert_exporter": "python",
   "pygments_lexer": "ipython3",
   "version": "3.10.0"
  },
  "orig_nbformat": 4
 },
 "nbformat": 4,
 "nbformat_minor": 2
}
