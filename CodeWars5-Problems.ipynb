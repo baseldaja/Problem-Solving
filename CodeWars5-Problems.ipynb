{
 "cells": [
  {
   "cell_type": "code",
   "execution_count": 86,
   "metadata": {},
   "outputs": [
    {
     "data": {
      "text/plain": [
       "[1, 2, 3, 6, 9, 12, 11, 10, 7, 4, 5, 8]"
      ]
     },
     "execution_count": 86,
     "metadata": {},
     "output_type": "execute_result"
    }
   ],
   "source": [
    "def snail(array):\n",
    "    result = []\n",
    "    while array:\n",
    "        result += array.pop(0)\n",
    "        if array and array[0]:\n",
    "            for row in array:\n",
    "                result.append(row.pop())\n",
    "\n",
    "        if array:\n",
    "            result += array.pop()[::-1]     \n",
    "\n",
    "        if array and array[0]:\n",
    "            for row in array[::-1]:\n",
    "                result.append(row.pop(0))\n",
    "                \n",
    "    return result\n",
    "\n",
    "array1 = [[1,2,3],\n",
    "         [4,5,6],\n",
    "         [7,8,9],\n",
    "         [10,11,12]]\n",
    "array2=[[1,2,3,4],\n",
    "         [5,6,7,8],\n",
    "         [9,10,11,12]]\n",
    "array3=[[5,3,1],\n",
    "         [6,8,9],\n",
    "         [6,12,15]]\n",
    "\n",
    "#print(f\"{len(array)}*{len(array[0])}\")\n",
    "snail(array1)\n"
   ]
  }
 ],
 "metadata": {
  "kernelspec": {
   "display_name": "Python 3",
   "language": "python",
   "name": "python3"
  },
  "language_info": {
   "codemirror_mode": {
    "name": "ipython",
    "version": 3
   },
   "file_extension": ".py",
   "mimetype": "text/x-python",
   "name": "python",
   "nbconvert_exporter": "python",
   "pygments_lexer": "ipython3",
   "version": "3.10.0"
  },
  "orig_nbformat": 4
 },
 "nbformat": 4,
 "nbformat_minor": 2
}
