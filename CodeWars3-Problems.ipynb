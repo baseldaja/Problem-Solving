{
 "cells": [
  {
   "cell_type": "code",
   "execution_count": 164,
   "metadata": {},
   "outputs": [
    {
     "name": "stdout",
     "output_type": "stream",
     "text": [
      "Success!\n"
     ]
    }
   ],
   "source": [
    "#Regex Password Validation\n",
    "import re\n",
    "password=\"Basel1234\"\n",
    "regex=re.findall(\"^(?=.*[a-z])(?=.*[A-Z])(?=.*\\d)[A-Za-z\\d]{6,}$\",password)\n",
    "if regex:\n",
    "    print(\"Success!\")\n",
    "else:\n",
    "    print(\"Fail!\")"
   ]
  },
  {
   "cell_type": "code",
   "execution_count": 154,
   "metadata": {},
   "outputs": [
    {
     "name": "stdout",
     "output_type": "stream",
     "text": [
      "23\n"
     ]
    }
   ],
   "source": [
    "def longest_slide_down(pyramid):\n",
    "    n = len(pyramid) #10\n",
    "\n",
    "    for i in range(n - 2, -1, -1): #n=3-2=1 (1,-1,-1)\n",
    "        for j in range(i + 1): #1\n",
    "            pyramid[i][j] += max(pyramid[i + 1][j], pyramid[i + 1][j + 1]) #pyr[1][0]\n",
    "            #\n",
    "\n",
    "    return pyramid[0][0]\n",
    "\n",
    "pyramid = [\n",
    "    [3],\n",
    "    [7, 4],\n",
    "    [2, 4, 6],\n",
    "    [8, 5, 9, 3]\n",
    "]\n",
    "\n",
    "print(largest_slide_down(pyramid))  \n"
   ]
  }
 ],
 "metadata": {
  "kernelspec": {
   "display_name": "Python 3",
   "language": "python",
   "name": "python3"
  },
  "language_info": {
   "codemirror_mode": {
    "name": "ipython",
    "version": 3
   },
   "file_extension": ".py",
   "mimetype": "text/x-python",
   "name": "python",
   "nbconvert_exporter": "python",
   "pygments_lexer": "ipython3",
   "version": "3.10.0"
  },
  "orig_nbformat": 4
 },
 "nbformat": 4,
 "nbformat_minor": 2
}
