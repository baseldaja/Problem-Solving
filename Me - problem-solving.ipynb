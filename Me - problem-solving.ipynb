{
 "cells": [
  {
   "cell_type": "code",
   "execution_count": 8,
   "metadata": {},
   "outputs": [
    {
     "data": {
      "text/plain": [
       "'9 is Not Divisble by 2 and 3'"
      ]
     },
     "execution_count": 8,
     "metadata": {},
     "output_type": "execute_result"
    }
   ],
   "source": [
    "#Check if n divisible by x and y\n",
    "def div(n,x,y):\n",
    "    if x>0 and y>0:\n",
    "        if n % x == 0 and n % y == 0:\n",
    "            return f\"{n} is Divisble by {x} and {y}\"\n",
    "        else:\n",
    "            return f\"{n} is Not Divisble by {x} and {y}\"\n",
    "        \n",
    "div(10,2,5)\n",
    "div(9,2,3)"
   ]
  },
  {
   "cell_type": "code",
   "execution_count": 74,
   "metadata": {},
   "outputs": [
    {
     "name": "stdout",
     "output_type": "stream",
     "text": [
      "100 180 90 56 65 74 68 86 99\n"
     ]
    }
   ],
   "source": [
    "#Weight for weight\n",
    "def order_weight(weights):\n",
    "    def digital_sum(n):\n",
    "        return sum(int(digit) for digit in n) #returns the sum of an integers that loops in n list\n",
    "\n",
    "    weight_list = weights.split() #splitting list that is actually a string  \"57 92 100\" --> ['56','92','100'] **note that the numbers are strings\n",
    "    sorted_weights = sorted(weight_list, key=lambda x: [digital_sum(x), x]) #sorting the new list based on each item summation\n",
    "\n",
    "    return ' '.join(sorted_weights)\n",
    "\n",
    "weights = \"56 65 74 100 99 68 86 180 90\"\n",
    "print(order_weight(weights))"
   ]
  },
  {
   "cell_type": "code",
   "execution_count": 57,
   "metadata": {},
   "outputs": [
    {
     "data": {
      "text/plain": [
       "4"
      ]
     },
     "execution_count": 57,
     "metadata": {},
     "output_type": "execute_result"
    }
   ],
   "source": [
    "#Find the odd int in sequence\n",
    "def find_it(seq):\n",
    "    for num in seq:\n",
    "        if seq.count(num) % 2 == 1:\n",
    "            return num\n",
    "    return \"No Odds\"\n",
    "\n",
    "find_it([1,2,2,3,3,3,4,3,3,3,2,2,1])"
   ]
  },
  {
   "cell_type": "code",
   "execution_count": 60,
   "metadata": {},
   "outputs": [
    {
     "data": {
      "text/plain": [
       "'Ali sevol elppa'"
      ]
     },
     "execution_count": 60,
     "metadata": {},
     "output_type": "execute_result"
    }
   ],
   "source": [
    "#Stop gninnipS My sdroW!\n",
    "def spin_words(sen):\n",
    "    tst=sen.split() #['Ali','loves','apple']\n",
    "    for i in range(len(tst)): \n",
    "        if len(tst[i])>=5:\n",
    "            tst[i]=tst[i][::-1] #['Ali','sevol','elppa']\n",
    "    return \" \".join(tst) #\"Ali' 'sevol' 'elppa\" -- this to recreate the string from an existing list\n",
    "\n",
    "spin_words(\"Ali loves apple\")"
   ]
  },
  {
   "cell_type": "code",
   "execution_count": 82,
   "metadata": {},
   "outputs": [
    {
     "data": {
      "text/plain": [
       "'odd'"
      ]
     },
     "execution_count": 82,
     "metadata": {},
     "output_type": "execute_result"
    }
   ],
   "source": [
    "#Odd or Even?\n",
    "def odd_or_even(arr): \n",
    "    sum=0\n",
    "    for i in range(len(arr)):   \n",
    "        sum+=arr[i]\n",
    "    if sum % 2 == 0:      \n",
    "        return \"even\"\n",
    "    else:      \n",
    "        return \"odd\"\n",
    "\n",
    "odd_or_even([2,3])"
   ]
  }
 ],
 "metadata": {
  "kernelspec": {
   "display_name": "Python 3",
   "language": "python",
   "name": "python3"
  },
  "language_info": {
   "codemirror_mode": {
    "name": "ipython",
    "version": 3
   },
   "file_extension": ".py",
   "mimetype": "text/x-python",
   "name": "python",
   "nbconvert_exporter": "python",
   "pygments_lexer": "ipython3",
   "version": "3.10.0"
  },
  "orig_nbformat": 4
 },
 "nbformat": 4,
 "nbformat_minor": 2
}
