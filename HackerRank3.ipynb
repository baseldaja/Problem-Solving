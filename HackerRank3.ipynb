{
 "cells": [
  {
   "cell_type": "code",
   "execution_count": 45,
   "metadata": {},
   "outputs": [
    {
     "name": "stdout",
     "output_type": "stream",
     "text": [
      "5\n"
     ]
    }
   ],
   "source": [
    "#Runner-up score [2,3,6,6,5]\n",
    "n = int(input())\n",
    "arr = map(int, input().split())\n",
    "scores = list(arr)\n",
    "#max score\n",
    "max_score = max(scores)\n",
    "while max_score in scores:\n",
    "    scores.remove(max_score)\n",
    "runner_up = max(scores)\n",
    "\n",
    "print(runner_up)\n"
   ]
  },
  {
   "cell_type": "code",
   "execution_count": 92,
   "metadata": {},
   "outputs": [
    {
     "name": "stdout",
     "output_type": "stream",
     "text": [
      "Berry\n",
      "Harry\n"
     ]
    }
   ],
   "source": [
    "#Second Lowest Students Scores (Nested-list)\n",
    "\n",
    "#Global Vars\n",
    "n = int(input())\n",
    "students = []\n",
    "\n",
    "#Input\n",
    "for _ in range(n):\n",
    "    name = input()\n",
    "    score = float(input())\n",
    "    students.append([name, score])\n",
    "\n",
    "#sort the studs list based on their score\n",
    "students.sort(key=lambda x: x[1])\n",
    "\n",
    "#find the second lowest score\n",
    "sec_score = None\n",
    "for i in range(1, n):\n",
    "    if students[i][1] > students[0][1]:\n",
    "        sec_score = students[i][1]\n",
    "        break\n",
    "\n",
    "# Print names of students with the second lowest score\n",
    "names = [student[0] for student in students if student[1] == sec_score]\n",
    "names.sort()  # Sort alphabetically\n",
    "for name in names:\n",
    "    print(name)"
   ]
  }
 ],
 "metadata": {
  "kernelspec": {
   "display_name": "Python 3",
   "language": "python",
   "name": "python3"
  },
  "language_info": {
   "codemirror_mode": {
    "name": "ipython",
    "version": 3
   },
   "file_extension": ".py",
   "mimetype": "text/x-python",
   "name": "python",
   "nbconvert_exporter": "python",
   "pygments_lexer": "ipython3",
   "version": "3.10.0"
  },
  "orig_nbformat": 4
 },
 "nbformat": 4,
 "nbformat_minor": 2
}
